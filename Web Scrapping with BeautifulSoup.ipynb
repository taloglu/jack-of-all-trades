{
 "cells": [
  {
   "cell_type": "code",
   "execution_count": null,
   "metadata": {
    "collapsed": true
   },
   "outputs": [],
   "source": [
    "# If you do not have the following libraries\n",
    "# !pip install bs4\n",
    "# !pip install requests"
   ]
  },
  {
   "cell_type": "code",
   "execution_count": 1,
   "metadata": {
    "collapsed": true
   },
   "outputs": [],
   "source": [
    "# libraries\n",
    "from bs4 import BeautifulSoup\n",
    "import requests, re"
   ]
  },
  {
   "cell_type": "code",
   "execution_count": 2,
   "metadata": {},
   "outputs": [],
   "source": [
    "domain = 'https://www.gordonramsay.com'\n",
    "url = domain + '/gr/recipes/getRecipes?start='\n",
    "\n",
    "item_number = 16\n",
    "page = 0\n",
    "\n",
    "recipes = []\n",
    "\n",
    "while page ==0 or len(hrefs) > 0:\n",
    "    result = requests.get(url + str(page * item_number))\n",
    "    soup = BeautifulSoup(result.content,\"lxml\")\n",
    "    samples = soup.find_all(text=re.compile('View recipe'))\n",
    "    hrefs = [sample.parent.attrs['href'] for sample in samples]\n",
    "    page = page + 1\n",
    "    recipes = recipes + hrefs"
   ]
  },
  {
   "cell_type": "code",
   "execution_count": 3,
   "metadata": {},
   "outputs": [
    {
     "data": {
      "text/plain": [
       "['/gr/recipes/california-fried-chicken-sandwich/',\n",
       " '/gr/recipes/courgetti-spaghetti-and-turkey-meatballs/',\n",
       " '/gr/recipes/cheesecake-in-a-jam-jar/',\n",
       " '/gr/recipes/banana-ice-cream/',\n",
       " '/gr/recipes/crispy-roast-duck-with-chinese-pancakes/']"
      ]
     },
     "execution_count": 3,
     "metadata": {},
     "output_type": "execute_result"
    }
   ],
   "source": [
    "recipes[:5]"
   ]
  },
  {
   "cell_type": "code",
   "execution_count": 4,
   "metadata": {},
   "outputs": [],
   "source": [
    "all_ingredients = []\n",
    "for recipe in recipes:\n",
    "    result = requests.get( domain + recipe)\n",
    "    soup = BeautifulSoup(result.content,\"lxml\")\n",
    "    raw_ingredients= soup.find(class_=\"recipe-ingredients\")\n",
    "    ingredients = [ingredient.text for ingredient in raw_ingredients.find_all('li')]\n",
    "    all_ingredients = all_ingredients + ingredients"
   ]
  },
  {
   "cell_type": "code",
   "execution_count": 5,
   "metadata": {},
   "outputs": [],
   "source": [
    "all_ingredients = ' '.join(all_ingredients)"
   ]
  },
  {
   "cell_type": "code",
   "execution_count": 6,
   "metadata": {
    "scrolled": false
   },
   "outputs": [
    {
     "data": {
      "text/plain": [
       "'50g wholemeal flour 200ml buttermilk (or 2 eggs, beaten) 150g puffed rice 2 tsp garlic powder 2 tsp onion powder or granules 4 tsp paprika 1 tsp dried sage 8 mini chicken breast fillets 4 wholemeal buns 1 ripe avocado, peeled, stoned and sliced ½ iceberg lettuce, shredded Sea salt and freshly ground black pepper Mexican hot sauce such as Cholula (optional), to serve 75ml Greek yoghurt ½ garlic clove, crushed 1 tsp cider vinegar 4 large courgettes, trimmed Olive oil, for frying Grated Parmesan ch'"
      ]
     },
     "execution_count": 6,
     "metadata": {},
     "output_type": "execute_result"
    }
   ],
   "source": [
    "all_ingredients[:500]"
   ]
  },
  {
   "cell_type": "markdown",
   "metadata": {},
   "source": [
    "As result, we have all the ingredients from **Gordon Ramsey**'s favourite recipes on his website. "
   ]
  }
 ],
 "metadata": {
  "kernelspec": {
   "display_name": "Python 3",
   "language": "python",
   "name": "python3"
  },
  "language_info": {
   "codemirror_mode": {
    "name": "ipython",
    "version": 3
   },
   "file_extension": ".py",
   "mimetype": "text/x-python",
   "name": "python",
   "nbconvert_exporter": "python",
   "pygments_lexer": "ipython3",
   "version": "3.6.0"
  }
 },
 "nbformat": 4,
 "nbformat_minor": 2
}
