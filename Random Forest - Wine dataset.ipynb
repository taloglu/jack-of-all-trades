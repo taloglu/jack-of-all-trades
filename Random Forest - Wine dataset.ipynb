{
 "cells": [
  {
   "cell_type": "code",
   "execution_count": 1,
   "metadata": {
    "collapsed": true
   },
   "outputs": [],
   "source": [
    "# libraries\n",
    "from sklearn.ensemble import RandomForestClassifier\n",
    "from sklearn.preprocessing import StandardScaler\n",
    "from sklearn.model_selection import train_test_split\n",
    "\n",
    "# datasets\n",
    "from sklearn import datasets"
   ]
  },
  {
   "cell_type": "code",
   "execution_count": 2,
   "metadata": {
    "collapsed": true
   },
   "outputs": [],
   "source": [
    "# load the data set\n",
    "wine = datasets.load_wine()"
   ]
  },
  {
   "cell_type": "code",
   "execution_count": 3,
   "metadata": {
    "collapsed": true
   },
   "outputs": [],
   "source": [
    "X = wine.data\n",
    "y = wine.target\n",
    "X_columns = wine.feature_names"
   ]
  },
  {
   "cell_type": "code",
   "execution_count": 4,
   "metadata": {
    "collapsed": true
   },
   "outputs": [],
   "source": [
    "# Split the data set into training and test\n",
    "X_train, X_test, y_train, y_test = train_test_split(X, y, test_size=0.1, random_state=42)"
   ]
  },
  {
   "cell_type": "markdown",
   "metadata": {},
   "source": [
    "While applying Random Forest Classifier, it is important to understand\n",
    "\n",
    "* What is Gini impruity?\n",
    "* What is bootstrapping?\n",
    "* How the maximum number of features should be selected?\n"
   ]
  },
  {
   "cell_type": "code",
   "execution_count": 5,
   "metadata": {
    "collapsed": true
   },
   "outputs": [],
   "source": [
    "clf = RandomForestClassifier(n_estimators=1000, criterion='gini',\n",
    "                             max_features= 'sqrt', bootstrap=True, \n",
    "                             random_state=0)"
   ]
  },
  {
   "cell_type": "code",
   "execution_count": 6,
   "metadata": {
    "collapsed": true
   },
   "outputs": [],
   "source": [
    "# Train model\n",
    "model = clf.fit(X_train, y_train)"
   ]
  },
  {
   "cell_type": "code",
   "execution_count": 7,
   "metadata": {},
   "outputs": [
    {
     "name": "stdout",
     "output_type": "stream",
     "text": [
      "Test: 1.0, Training: 1.0\n"
     ]
    }
   ],
   "source": [
    "# Check the accuracy of the training as well as testing\n",
    "print('Test: {}, Training: {}'.format(clf.score(X_test, y_test) , clf.score(X_train, y_train)))"
   ]
  },
  {
   "cell_type": "code",
   "execution_count": 8,
   "metadata": {},
   "outputs": [
    {
     "name": "stdout",
     "output_type": "stream",
     "text": [
      "proline: 16.72%\n",
      "color_intensity: 16.26%\n",
      "flavanoids: 15.89%\n",
      "od280/od315_of_diluted_wines: 12.82%\n",
      "alcohol: 11.34%\n",
      "hue: 7.33%\n",
      "total_phenols: 4.91%\n",
      "malic_acid: 3.68%\n",
      "alcalinity_of_ash: 3.16%\n",
      "magnesium: 3.03%\n",
      "proanthocyanins: 2.52%\n",
      "ash: 1.29%\n",
      "nonflavanoid_phenols: 1.07%\n"
     ]
    }
   ],
   "source": [
    "for importance, feature  in sorted(zip(model.feature_importances_, X_columns), key=lambda x: x[0], reverse=True):\n",
    "    print('{}: {:.2%}'.format(feature , importance))"
   ]
  }
 ],
 "metadata": {
  "kernelspec": {
   "display_name": "Python 3",
   "language": "python",
   "name": "python3"
  },
  "language_info": {
   "codemirror_mode": {
    "name": "ipython",
    "version": 3
   },
   "file_extension": ".py",
   "mimetype": "text/x-python",
   "name": "python",
   "nbconvert_exporter": "python",
   "pygments_lexer": "ipython3",
   "version": "3.6.0"
  }
 },
 "nbformat": 4,
 "nbformat_minor": 2
}
