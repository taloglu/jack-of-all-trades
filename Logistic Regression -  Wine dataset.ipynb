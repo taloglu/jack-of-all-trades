{
 "cells": [
  {
   "cell_type": "code",
   "execution_count": 1,
   "metadata": {
    "collapsed": true
   },
   "outputs": [],
   "source": [
    "# libraries\n",
    "from sklearn.linear_model import LogisticRegression\n",
    "from sklearn.preprocessing import StandardScaler\n",
    "from sklearn.model_selection import train_test_split\n",
    "from sklearn.model_selection import cross_val_score\n",
    "from sklearn import metrics\n",
    "from random import randint\n",
    "from collections import Counter\n",
    "\n",
    "# dataset\n",
    "from sklearn import datasets"
   ]
  },
  {
   "cell_type": "code",
   "execution_count": 2,
   "metadata": {
    "collapsed": true
   },
   "outputs": [],
   "source": [
    "wine = datasets.load_wine()"
   ]
  },
  {
   "cell_type": "code",
   "execution_count": 3,
   "metadata": {
    "collapsed": true
   },
   "outputs": [],
   "source": [
    "X_columns = wine.feature_names\n",
    "X = wine.data\n",
    "y = wine.target"
   ]
  },
  {
   "cell_type": "code",
   "execution_count": 4,
   "metadata": {
    "collapsed": true
   },
   "outputs": [],
   "source": [
    "def print_random_sample(X_columns, X, y):\n",
    "    sample_number = randint(1, X.shape[0])\n",
    "    X_sample, y_sample = X[sample_number], y[sample_number]\n",
    "\n",
    "    for column, value in zip(X_columns, X_sample):\n",
    "        print('{}: {}'.format(column, value))\n",
    "    print('Target: {}'.format(y_sample))"
   ]
  },
  {
   "cell_type": "code",
   "execution_count": 5,
   "metadata": {},
   "outputs": [
    {
     "name": "stdout",
     "output_type": "stream",
     "text": [
      "alcohol: 13.56\n",
      "malic_acid: 1.71\n",
      "ash: 2.31\n",
      "alcalinity_of_ash: 16.2\n",
      "magnesium: 117.0\n",
      "total_phenols: 3.15\n",
      "flavanoids: 3.29\n",
      "nonflavanoid_phenols: 0.34\n",
      "proanthocyanins: 2.34\n",
      "color_intensity: 6.13\n",
      "hue: 0.95\n",
      "od280/od315_of_diluted_wines: 3.38\n",
      "proline: 795.0\n",
      "Target: 0\n"
     ]
    }
   ],
   "source": [
    "print_random_sample(X_columns, X, y)"
   ]
  },
  {
   "cell_type": "code",
   "execution_count": 6,
   "metadata": {
    "collapsed": true
   },
   "outputs": [],
   "source": [
    "## Optional\n",
    "# scaler = StandardScaler()\n",
    "# X_std = scaler.fit_transform(X)\n",
    "\n",
    "X_train, X_test, y_train, y_test = train_test_split(X, y, test_size=0.1, random_state=42)"
   ]
  },
  {
   "cell_type": "code",
   "execution_count": 7,
   "metadata": {},
   "outputs": [
    {
     "data": {
      "text/plain": [
       "Counter({0: 52, 1: 64, 2: 44})"
      ]
     },
     "execution_count": 7,
     "metadata": {},
     "output_type": "execute_result"
    }
   ],
   "source": [
    "Counter(y_train)"
   ]
  },
  {
   "cell_type": "code",
   "execution_count": 8,
   "metadata": {},
   "outputs": [],
   "source": [
    "# Logistic regression object with one-vs-rest and L1 penalty\n",
    "clf = LogisticRegression(random_state=101, multi_class='ovr', penalty='l1')"
   ]
  },
  {
   "cell_type": "code",
   "execution_count": 9,
   "metadata": {
    "collapsed": true
   },
   "outputs": [],
   "source": [
    "# Train model\n",
    "model = clf.fit(X_train, y_train)"
   ]
  },
  {
   "cell_type": "code",
   "execution_count": 10,
   "metadata": {},
   "outputs": [
    {
     "data": {
      "text/plain": [
       "0.94444444444444442"
      ]
     },
     "execution_count": 10,
     "metadata": {},
     "output_type": "execute_result"
    }
   ],
   "source": [
    "clf.score(X_test, y_test) "
   ]
  },
  {
   "cell_type": "code",
   "execution_count": 11,
   "metadata": {},
   "outputs": [
    {
     "data": {
      "text/plain": [
       "0.97499999999999998"
      ]
     },
     "execution_count": 11,
     "metadata": {},
     "output_type": "execute_result"
    }
   ],
   "source": [
    "clf.score(X_train, y_train)"
   ]
  },
  {
   "cell_type": "code",
   "execution_count": 12,
   "metadata": {},
   "outputs": [
    {
     "data": {
      "text/plain": [
       "array([[ -5.48446420e-01,   6.54750592e-01,   1.49059090e+00,\n",
       "         -5.94971467e-01,  -3.07808870e-02,   0.00000000e+00,\n",
       "          1.69668404e+00,   0.00000000e+00,   0.00000000e+00,\n",
       "         -5.96690739e-03,   0.00000000e+00,   1.68861620e-01,\n",
       "          1.49413352e-02],\n",
       "       [  1.14546003e+00,  -1.34172594e+00,   0.00000000e+00,\n",
       "          2.24812737e-01,  -2.57078275e-03,   0.00000000e+00,\n",
       "          7.10419656e-01,   0.00000000e+00,   6.92437291e-01,\n",
       "         -2.17898872e+00,   6.65525543e-03,   0.00000000e+00,\n",
       "         -1.32495469e-02],\n",
       "       [ -1.35025352e-03,   5.94421944e-01,   0.00000000e+00,\n",
       "          2.11488308e-02,   8.27283185e-03,   0.00000000e+00,\n",
       "         -3.03088814e+00,   0.00000000e+00,   0.00000000e+00,\n",
       "          9.24459921e-01,   0.00000000e+00,  -1.56198320e+00,\n",
       "         -7.95335337e-04]])"
      ]
     },
     "execution_count": 12,
     "metadata": {},
     "output_type": "execute_result"
    }
   ],
   "source": [
    "model.coef_"
   ]
  },
  {
   "cell_type": "code",
   "execution_count": 13,
   "metadata": {},
   "outputs": [
    {
     "data": {
      "text/plain": [
       "array([ 0.91991585,  0.94515263,  0.94747475,  1.        ,  1.        ])"
      ]
     },
     "execution_count": 13,
     "metadata": {},
     "output_type": "execute_result"
    }
   ],
   "source": [
    "scores = cross_val_score(clf, X, y, cv=5, scoring='f1_macro')\n",
    "scores"
   ]
  },
  {
   "cell_type": "code",
   "execution_count": null,
   "metadata": {
    "collapsed": true
   },
   "outputs": [],
   "source": []
  }
 ],
 "metadata": {
  "kernelspec": {
   "display_name": "Python 3",
   "language": "python",
   "name": "python3"
  },
  "language_info": {
   "codemirror_mode": {
    "name": "ipython",
    "version": 3
   },
   "file_extension": ".py",
   "mimetype": "text/x-python",
   "name": "python",
   "nbconvert_exporter": "python",
   "pygments_lexer": "ipython3",
   "version": "3.6.0"
  }
 },
 "nbformat": 4,
 "nbformat_minor": 2
}
